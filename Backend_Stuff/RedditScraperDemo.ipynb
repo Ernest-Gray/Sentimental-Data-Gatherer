{
 "cells": [
  {
   "cell_type": "code",
   "execution_count": 1,
   "metadata": {},
   "outputs": [],
   "source": [
    "#Imports\n",
    "import praw\n",
    "import json"
   ]
  },
  {
   "cell_type": "code",
   "execution_count": 2,
   "metadata": {},
   "outputs": [],
   "source": [
    "#Get Credentials\n",
    "with open('config.json', 'r') as file:\n",
    "    data = json.load(file)\n",
    "    client_id = data['reddit_clientID']\n",
    "    client_secret = data['reddit_secret']"
   ]
  },
  {
   "cell_type": "code",
   "execution_count": 3,
   "metadata": {},
   "outputs": [
    {
     "name": "stdout",
     "output_type": "stream",
     "text": [
      "Sunday Daily Thread: What's everyone working on this week?\n",
      "Wednesday Daily Thread: Beginner questions\n",
      "I wrote a program that organizes your music library by renaming your music files based on the ID3 tag (metadata).\n",
      "Alternatives to Makefile for Python\n",
      "[WIP] drag’n drop UI builder for python\n",
      "PEP 704 – Require virtual environments by default for package installers\n",
      "A GUI to automatically generate AI images from dream.ai\n",
      "Made a generator tool of these 3D-Print-ready models\n",
      "I wrote an app for people suffering from OCD\n",
      "Asynchronous programming in Python with asyncio\n"
     ]
    }
   ],
   "source": [
    "#Get Data using PRAW 'Python Reddit api w???'\n",
    "reddit = praw.Reddit(client_id=client_id, client_secret=client_secret, user_agent='MyApp/1.0 by grayhound_56')\n",
    "\n",
    "subreddit = reddit.subreddit('Python')\n",
    "\n",
    "for submission in subreddit.hot(limit=10):\n",
    "    print(submission.title)"
   ]
  },
  {
   "cell_type": "code",
   "execution_count": 37,
   "metadata": {},
   "outputs": [],
   "source": [
    "#Get Data\n",
    "# subreddits = ['Daytrading', 'stocks', 'Stock_Picks', 'wallstreetbets']\n",
    "dayTrading = reddit.subreddit('Daytrading')\n",
    "data_filtered = dayTrading.search(\"title:microsoft OR title:msft\", sort='relevance', limit=None, time_filter='all')"
   ]
  },
  {
   "cell_type": "code",
   "execution_count": 38,
   "metadata": {},
   "outputs": [
    {
     "name": "stdout",
     "output_type": "stream",
     "text": [
      "Data found: 25\n",
      "1674596564.0\n",
      "2023-01-24 21:42:44\n",
      "2020-06-25 13:02:38\n",
      "Microsoft plumetted to become negative AH on poor guidance. Do you consider this to be of concern?\n",
      "4015 and dropping\n",
      ">However now that we have a nice push here we have broken that double top  and presumably will see continuation tomorrow. Futures also closed a  full candle over the daily 200ema for the first time since December 1st.\n",
      "\n",
      "This is backwards. Each week should be considered as a giant OHLC candle (because that's what it is). The first half of the week is accumulation, the middle is manipulation (markup/markdown), and the end is distribution.\n",
      "\n",
      "The fact that futures opened Sunday night, immediately peeled off and created a high Monday, then created another high today right before close (as I predicted) is sounding a giant alarm bell that a dump on Thursday & Friday is likely...\n",
      "\n",
      "My guess for tomorrow is sideways to slightly down. If we create a new high tomorrow (unlikely), the dump on Thurs & Friday will be that much more pronounced.\n"
     ]
    }
   ],
   "source": [
    "#Find what data can be had from posts at this url\n",
    "# \"https://praw.readthedocs.io/en/stable/code_overview/models/submission.html#praw.models.Submission\"\n",
    "\n",
    "data_filtered = list(data_filtered)\n",
    "print(\"Data found: \" + str(len(data_filtered)))\n",
    "\n",
    "from datetime import datetime as dt\n",
    "#Show most recent and oldest post timestamps\n",
    "print(dt.utcfromtimestamp(int(data_filtered[0].created_utc)))\n",
    "print(dt.utcfromtimestamp(int(data_filtered[-1].created_utc)))\n",
    "\n",
    "#Get n top comments\n",
    "n = 3\n",
    "top_n_comments = data_filtered[0].comments[:n]\n",
    "\n",
    "for comment in top_n_comments:\n",
    "    print(comment.body)"
   ]
  },
  {
   "cell_type": "code",
   "execution_count": 6,
   "metadata": {},
   "outputs": [
    {
     "name": "stderr",
     "output_type": "stream",
     "text": [
      "c:\\Users\\eggte\\Documents\\Python Projects 2023\\Sentimental Data Gatherer\\env\\lib\\site-packages\\tqdm\\auto.py:22: TqdmWarning: IProgress not found. Please update jupyter and ipywidgets. See https://ipywidgets.readthedocs.io/en/stable/user_install.html\n",
      "  from .autonotebook import tqdm as notebook_tqdm\n"
     ]
    }
   ],
   "source": [
    "#Import SA for below analyis\n",
    "import SentimentAnalysis as SA"
   ]
  },
  {
   "cell_type": "code",
   "execution_count": 9,
   "metadata": {},
   "outputs": [
    {
     "name": "stdout",
     "output_type": "stream",
     "text": [
      "{'Very Good': 0.31821178704500197, 'Good': 0.40119359746575356, 'Nuetral': 0.08624047050252556, 'Bad': 0.13236297172494232, 'Very Bad': 0.061991174761205914}\n"
     ]
    }
   ],
   "source": [
    "#Do analyis on the sentiment of the data\n",
    "titles = [item.title for item in data_filtered]\n",
    "titleSentiment = SA.GetSentiment(titles)\n",
    "titleSentiment = SA.GetSummationSentiment(titleSentiment)\n",
    "print(titleSentiment)\n"
   ]
  },
  {
   "cell_type": "code",
   "execution_count": 12,
   "metadata": {},
   "outputs": [
    {
     "data": {
      "image/png": "[encoded data removed]",
      "text/plain": [
       "<Figure size 640x480 with 1 Axes>"
      ]
     },
     "metadata": {},
     "output_type": "display_data"
    }
   ],
   "source": [
    "import matplotlib.pyplot as plt\n",
    "\n",
    "# Extract the keys and values from the dictionary\n",
    "x = list(titleSentiment.keys())\n",
    "y = list(titleSentiment.values())\n",
    "\n",
    "# Create the chart\n",
    "plt.bar(x, y)\n",
    "\n",
    "# Add labels and title\n",
    "plt.xlabel('Labels')\n",
    "plt.ylabel('Values')\n",
    "plt.title('Reddit Title Sentiment')\n",
    "plt.show()"
   ]
  },
  {
   "cell_type": "code",
   "execution_count": 27,
   "metadata": {},
   "outputs": [],
   "source": [
    "#Scrape comments next\n",
    "numberOfComments = 3\n",
    "data_list = []\n",
    "\n",
    "for post in data_filtered:\n",
    "    comments = post.comments[:numberOfComments]\n",
    "    comments = [item.body for item in comments]\n",
    "    data_list.append({\"Title\": post.title, \"Comments\" : comments})"
   ]
  },
  {
   "cell_type": "code",
   "execution_count": 33,
   "metadata": {},
   "outputs": [
    {
     "name": "stdout",
     "output_type": "stream",
     "text": [
      "Performing Sentimental Analysis on 54 Comments\n",
      "{'Very Good': 0.22119059272248437, 'Good': 0.33052061545162426, 'Nuetral': 0.0944509236616324, 'Bad': 0.25183094558909674, 'Very Bad': 0.10200692607408941}\n"
     ]
    }
   ],
   "source": [
    "#Perform Sentiment Analyis (SA) on the comments\n",
    "comments = [item['Comments'] for item in data_list]\n",
    "comments_flat = []\n",
    "for sublist in comments:\n",
    "    for comment in sublist:\n",
    "        comments_flat.append(comment)\n",
    "print(\"Performing Sentimental Analysis on \" + str(len(comments_flat)) + \" Comments\")\n",
    "commentSentiment = SA.GetSentiment(comments_flat)\n",
    "commentSentiment = SA.GetSummationSentiment(commentSentiment)\n",
    "print(commentSentiment)"
   ]
  },
  {
   "cell_type": "code",
   "execution_count": 32,
   "metadata": {},
   "outputs": [
    {
     "data": {
      "image/png": "[encoded data removed]",
      "text/plain": [
       "<Figure size 640x480 with 1 Axes>"
      ]
     },
     "metadata": {},
     "output_type": "display_data"
    }
   ],
   "source": [
    "#Plot the comment sentiment data\n",
    "# Extract the keys and values from the dictionary\n",
    "comment_x = list(commentSentiment.keys())\n",
    "comment_y = list(commentSentiment.values())\n",
    "\n",
    "# Create the chart\n",
    "plt.bar(comment_x, comment_y)\n",
    "\n",
    "# Add labels and title\n",
    "plt.xlabel('Labels')\n",
    "plt.ylabel('Values')\n",
    "plt.title('Reddit Comment Sentiment')\n",
    "plt.show()"
   ]
  }
 ],
 "metadata": {
  "kernelspec": {
   "display_name": "env",
   "language": "python",
   "name": "python3"
  },
  "language_info": {
   "codemirror_mode": {
    "name": "ipython",
    "version": 3
   },
   "file_extension": ".py",
   "mimetype": "text/x-python",
   "name": "python",
   "nbconvert_exporter": "python",
   "pygments_lexer": "ipython3",
   "version": "3.9.13"
  },
  "orig_nbformat": 4,
  "vscode": {
   "interpreter": {
    "hash": "6aa5373f9713739b91729f3b2549b645f88a015795719b5ecda480e6d5d6e999"
   }
  }
 },
 "nbformat": 4,
 "nbformat_minor": 2
}
