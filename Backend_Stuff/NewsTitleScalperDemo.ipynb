{
 "cells": [
  {
   "cell_type": "code",
   "execution_count": 29,
   "metadata": {},
   "outputs": [],
   "source": [
    "import SentimentAnalysis\n",
    "import StockNewsScalper"
   ]
  },
  {
   "cell_type": "code",
   "execution_count": 30,
   "metadata": {},
   "outputs": [],
   "source": [
    "#Get yfinance news titles and do Sentiment Analysis on them\n",
    "ticker = 'msft'\n",
    "news = StockNewsScalper.GathererData(ticker).news\n",
    "titles = [item['title'] for item in news]\n",
    "sentiment = SentimentAnalysis.GetSentiment(titles)"
   ]
  },
  {
   "cell_type": "code",
   "execution_count": 49,
   "metadata": {},
   "outputs": [
    {
     "name": "stdout",
     "output_type": "stream",
     "text": [
      "relativedelta(hours=+10, minutes=+43, seconds=+54)\n"
     ]
    }
   ],
   "source": [
    "#See how old the data is\n",
    "news\n",
    "import datetime as dt\n",
    "from dateutil.relativedelta import relativedelta\n",
    "\n",
    "times = []\n",
    "for article in news:\n",
    "    times.append(dt.datetime.fromtimestamp(article['providerPublishTime']))\n",
    "    \n",
    "oldest, newest = min(times), max(times)\n",
    "time_diff = relativedelta(newest, oldest)\n",
    "print(time_diff)"
   ]
  },
  {
   "cell_type": "code",
   "execution_count": 31,
   "metadata": {},
   "outputs": [
    {
     "name": "stdout",
     "output_type": "stream",
     "text": [
      "0.533272247761488\n"
     ]
    }
   ],
   "source": [
    "#Verifying The Scores in the below cell are correct\n",
    "score = 0\n",
    "for prediction in sentiment:\n",
    "    index = prediction['labels'].index('Very Bad')\n",
    "    score += prediction['scores'][index]\n",
    "print(score)"
   ]
  },
  {
   "cell_type": "code",
   "execution_count": 32,
   "metadata": {},
   "outputs": [
    {
     "name": "stdout",
     "output_type": "stream",
     "text": [
      "{'Very Good': 0.3019637018442154, 'Good': 0.3504379531368613, 'Nuetral': 0.09235290577635169, 'Bad': 0.18858642037957907, 'Very Bad': 0.066659030970186}\n"
     ]
    }
   ],
   "source": [
    "#Store the summation of each value in the dict\n",
    "labels = dict.fromkeys(SentimentAnalysis.candidate_labels)\n",
    "labels = {key: float(0) for key,value in labels.items()}\n",
    "n = len(sentiment)\n",
    "\n",
    "# print(sentiment)\n",
    "for prediction in sentiment:\n",
    "    for x in range(len(prediction['labels'])):\n",
    "        labels[prediction['labels'][x]] += prediction['scores'][x]\n",
    "     \n",
    "#Average out the values\n",
    "labels = {key: value/n for key,value in labels.items()}\n",
    "print(labels)\n",
    "    "
   ]
  },
  {
   "cell_type": "code",
   "execution_count": 1,
   "metadata": {},
   "outputs": [],
   "source": [
    "def GetNewsTimeLength(news:list):\n",
    "    #See how old the data is\n",
    "    times = []\n",
    "    for article in news:\n",
    "        times.append(dt.datetime.fromtimestamp(article['providerPublishTime']))\n",
    "        \n",
    "    oldest, newest = min(times), max(times)\n",
    "    time_diff = relativedelta(newest, oldest)\n",
    "    return time_diff"
   ]
  },
  {
   "cell_type": "code",
   "execution_count": 12,
   "metadata": {},
   "outputs": [
    {
     "data": {
      "text/plain": [
       "{'Very Good': 0.3019637018442154,\n",
       " 'Good': 0.3504379531368613,\n",
       " 'Nuetral': 0.09235290577635169,\n",
       " 'Bad': 0.18858642037957907,\n",
       " 'Very Bad': 0.066659030970186,\n",
       " 'NewsTimeDelta': relativedelta(hours=+10, minutes=+43, seconds=+54)}"
      ]
     },
     "execution_count": 12,
     "metadata": {},
     "output_type": "execute_result"
    }
   ],
   "source": [
    "import SentimentAnalysis\n",
    "import StockNewsScalper\n",
    "import datetime as dt\n",
    "from dateutil.relativedelta import relativedelta\n",
    "\n",
    "ticker = 'msft'\n",
    "news = StockNewsScalper.GathererData(ticker).news\n",
    "titles = [item['title'] for item in news]\n",
    "sentiment = SentimentAnalysis.GetSentiment(titles)\n",
    "\n",
    "labels = dict.fromkeys(SentimentAnalysis.candidate_labels)\n",
    "labels = {key: float(0) for key,value in labels.items()}\n",
    "n = len(sentiment)\n",
    "\n",
    "# print(sentiment)\n",
    "for prediction in sentiment:\n",
    "    for x in range(len(prediction['labels'])):\n",
    "        labels[prediction['labels'][x]] += prediction['scores'][x]\n",
    "    \n",
    "#Average out the values\n",
    "labels = {key: value/n for key,value in labels.items()}\n",
    "\n",
    "labels['NewsTimeDelta'] = GetNewsTimeLength(news)\n",
    "labels"
   ]
  }
 ],
 "metadata": {
  "kernelspec": {
   "display_name": "env",
   "language": "python",
   "name": "python3"
  },
  "language_info": {
   "codemirror_mode": {
    "name": "ipython",
    "version": 3
   },
   "file_extension": ".py",
   "mimetype": "text/x-python",
   "name": "python",
   "nbconvert_exporter": "python",
   "pygments_lexer": "ipython3",
   "version": "3.9.13 (tags/v3.9.13:6de2ca5, May 17 2022, 16:36:42) [MSC v.1929 64 bit (AMD64)]"
  },
  "orig_nbformat": 4,
  "vscode": {
   "interpreter": {
    "hash": "6aa5373f9713739b91729f3b2549b645f88a015795719b5ecda480e6d5d6e999"
   }
  }
 },
 "nbformat": 4,
 "nbformat_minor": 2
}
