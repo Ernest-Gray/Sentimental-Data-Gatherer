{
 "cells": [
  {
   "cell_type": "code",
   "execution_count": 1,
   "metadata": {},
   "outputs": [
    {
     "name": "stderr",
     "output_type": "stream",
     "text": [
      "c:\\Users\\eggte\\Documents\\GitHub\\test other member management\\Sentimental-Data-Gatherer\\env\\lib\\site-packages\\tqdm\\auto.py:22: TqdmWarning: IProgress not found. Please update jupyter and ipywidgets. See https://ipywidgets.readthedocs.io/en/stable/user_install.html\n",
      "  from .autonotebook import tqdm as notebook_tqdm\n",
      "Downloading: 100%|██████████| 1.15k/1.15k [00:00<00:00, 207kB/s]\n",
      "Downloading: 100%|██████████| 1.63G/1.63G [16:49<00:00, 1.61MB/s] \n",
      "Downloading: 100%|██████████| 26.0/26.0 [00:00<00:00, 8.69kB/s]\n",
      "Downloading: 100%|██████████| 899k/899k [00:00<00:00, 2.66MB/s]\n",
      "Downloading: 100%|██████████| 456k/456k [00:00<00:00, 2.19MB/s]\n",
      "Downloading: 100%|██████████| 1.36M/1.36M [00:00<00:00, 2.07MB/s]\n"
     ]
    }
   ],
   "source": [
    "import SentimentAnalysis\n",
    "import StockNewsScalper"
   ]
  },
  {
   "cell_type": "code",
   "execution_count": 2,
   "metadata": {},
   "outputs": [],
   "source": [
    "#Get yfinance news titles and do Sentiment Analysis on them\n",
    "ticker = 'msft'\n",
    "news = StockNewsScalper.GathererData(ticker).news\n",
    "titles = [item['title'] for item in news]\n",
    "sentiment = SentimentAnalysis.GetSentiment(titles)"
   ]
  },
  {
   "cell_type": "code",
   "execution_count": null,
   "metadata": {},
   "outputs": [],
   "source": [
    "titles[:4]"
   ]
  },
  {
   "cell_type": "code",
   "execution_count": 3,
   "metadata": {},
   "outputs": [
    {
     "name": "stdout",
     "output_type": "stream",
     "text": [
      "relativedelta(hours=+1, minutes=+27, seconds=+10)\n"
     ]
    }
   ],
   "source": [
    "#See how old the data is\n",
    "news\n",
    "import datetime as dt\n",
    "from dateutil.relativedelta import relativedelta\n",
    "\n",
    "times = []\n",
    "for article in news:\n",
    "    times.append(dt.datetime.fromtimestamp(article['providerPublishTime']))\n",
    "    \n",
    "oldest, newest = min(times), max(times)\n",
    "time_diff = relativedelta(newest, oldest)\n",
    "print(time_diff)"
   ]
  },
  {
   "cell_type": "code",
   "execution_count": 4,
   "metadata": {},
   "outputs": [
    {
     "name": "stdout",
     "output_type": "stream",
     "text": [
      "0.6671958533115685\n"
     ]
    }
   ],
   "source": [
    "#Verifying The Scores in the below cell are correct\n",
    "score = 0\n",
    "for prediction in sentiment:\n",
    "    index = prediction['labels'].index('Very Bad')\n",
    "    score += prediction['scores'][index]\n",
    "print(score)"
   ]
  },
  {
   "cell_type": "code",
   "execution_count": 5,
   "metadata": {},
   "outputs": [
    {
     "name": "stdout",
     "output_type": "stream",
     "text": [
      "{'Very Good': 0.29214200284332037, 'Good': 0.33407395146787167, 'Nuetral': 0.11358263762667775, 'Bad': 0.17680193873820826, 'Very Bad': 0.08339948166394606}\n"
     ]
    }
   ],
   "source": [
    "#Store the summation of each value in the dict\n",
    "labels = dict.fromkeys(SentimentAnalysis.candidate_labels)\n",
    "labels = {key: float(0) for key,value in labels.items()}\n",
    "n = len(sentiment)\n",
    "\n",
    "# print(sentiment)\n",
    "for prediction in sentiment:\n",
    "    for x in range(len(prediction['labels'])):\n",
    "        labels[prediction['labels'][x]] += prediction['scores'][x]\n",
    "     \n",
    "#Average out the values\n",
    "labels = {key: value/n for key,value in labels.items()}\n",
    "print(labels)\n",
    "    "
   ]
  },
  {
   "cell_type": "code",
   "execution_count": 6,
   "metadata": {},
   "outputs": [],
   "source": [
    "def GetNewsTimeLength(news:list):\n",
    "    #See how old the data is\n",
    "    times = []\n",
    "    for article in news:\n",
    "        times.append(dt.datetime.fromtimestamp(article['providerPublishTime']))\n",
    "        \n",
    "    oldest, newest = min(times), max(times)\n",
    "    time_diff = relativedelta(newest, oldest)\n",
    "    return time_diff"
   ]
  },
  {
   "cell_type": "code",
   "execution_count": 7,
   "metadata": {},
   "outputs": [
    {
     "data": {
      "text/plain": [
       "{'Very Good': 0.29214200284332037,\n",
       " 'Good': 0.33407395146787167,\n",
       " 'Nuetral': 0.11358263762667775,\n",
       " 'Bad': 0.17680193873820826,\n",
       " 'Very Bad': 0.08339948166394606,\n",
       " 'NewsTimeDelta': relativedelta(hours=+1, minutes=+27, seconds=+10)}"
      ]
     },
     "execution_count": 7,
     "metadata": {},
     "output_type": "execute_result"
    }
   ],
   "source": [
    "import SentimentAnalysis\n",
    "import StockNewsScalper\n",
    "import datetime as dt\n",
    "from dateutil.relativedelta import relativedelta\n",
    "\n",
    "ticker = 'msft'\n",
    "news = StockNewsScalper.GathererData(ticker).news\n",
    "titles = [item['title'] for item in news]\n",
    "sentiment = SentimentAnalysis.GetSentiment(titles)\n",
    "\n",
    "labels = dict.fromkeys(SentimentAnalysis.candidate_labels)\n",
    "labels = {key: float(0) for key,value in labels.items()}\n",
    "n = len(sentiment)\n",
    "\n",
    "# print(sentiment)\n",
    "for prediction in sentiment:\n",
    "    for x in range(len(prediction['labels'])):\n",
    "        labels[prediction['labels'][x]] += prediction['scores'][x]\n",
    "    \n",
    "#Average out the values\n",
    "labels = {key: value/n for key,value in labels.items()}\n",
    "\n",
    "labels['NewsTimeDelta'] = GetNewsTimeLength(news)\n",
    "labels"
   ]
  }
 ],
 "metadata": {
  "kernelspec": {
   "display_name": "Python 3",
   "language": "python",
   "name": "python3"
  },
  "language_info": {
   "codemirror_mode": {
    "name": "ipython",
    "version": 3
   },
   "file_extension": ".py",
   "mimetype": "text/x-python",
   "name": "python",
   "nbconvert_exporter": "python",
   "pygments_lexer": "ipython3",
   "version": "3.9.13"
  },
  "orig_nbformat": 4,
  "vscode": {
   "interpreter": {
    "hash": "2a810e4750b0c9cdc6313c9f472dc15d940e7ac7b2927487404d3ac7518988b5"
   }
  }
 },
 "nbformat": 4,
 "nbformat_minor": 2
}
