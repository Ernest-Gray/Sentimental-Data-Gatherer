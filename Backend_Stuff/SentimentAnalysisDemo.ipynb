{
 "cells": [
  {
   "cell_type": "code",
   "execution_count": 1,
   "metadata": {},
   "outputs": [
    {
     "name": "stderr",
     "output_type": "stream",
     "text": [
      "c:\\Users\\eggte\\Documents\\GitHub\\test other member management\\Sentimental-Data-Gatherer\\env\\lib\\site-packages\\tqdm\\auto.py:22: TqdmWarning: IProgress not found. Please update jupyter and ipywidgets. See https://ipywidgets.readthedocs.io/en/stable/user_install.html\n",
      "  from .autonotebook import tqdm as notebook_tqdm\n"
     ]
    }
   ],
   "source": [
    "import SentimentAnalysis"
   ]
  },
  {
   "cell_type": "code",
   "execution_count": 2,
   "metadata": {},
   "outputs": [
    {
     "data": {
      "text/plain": [
       "{'sequence': 'Lots of money today',\n",
       " 'labels': ['Very Good', 'Good', 'Nuetral', 'Bad', 'Very Bad'],\n",
       " 'scores': [0.5200066566467285,\n",
       "  0.4042646288871765,\n",
       "  0.06496202945709229,\n",
       "  0.007128261961042881,\n",
       "  0.0036383557599037886]}"
      ]
     },
     "execution_count": 2,
     "metadata": {},
     "output_type": "execute_result"
    }
   ],
   "source": [
    "#Demo of analysis on one sentence\n",
    "results = SentimentAnalysis.GetSentiment(\"Lots of money today\")\n",
    "results"
   ]
  },
  {
   "cell_type": "code",
   "execution_count": 4,
   "metadata": {},
   "outputs": [
    {
     "data": {
      "text/plain": [
       "{'Very Good': 0.10891879567255576,\n",
       " 'Good': 0.15733784126738706,\n",
       " 'Nuetral': 0.12515914936860403,\n",
       " 'Bad': 0.45113853737711906,\n",
       " 'Very Bad': 0.1574456455806891}"
      ]
     },
     "execution_count": 4,
     "metadata": {},
     "output_type": "execute_result"
    }
   ],
   "source": [
    "#Demo of analysis on multiple sentences\n",
    "sentences = [\"Hello how are you today\", \"I am feeling sad today\", \"Im definitely not wanting to go outside\"]\n",
    "listResults = SentimentAnalysis.GetSentiment(sentences)\n",
    "summarizedResults = SentimentAnalysis.GetSummationSentiment(listResults)\n",
    "summarizedResults\n"
   ]
  }
 ],
 "metadata": {
  "kernelspec": {
   "display_name": "Python 3",
   "language": "python",
   "name": "python3"
  },
  "language_info": {
   "codemirror_mode": {
    "name": "ipython",
    "version": 3
   },
   "file_extension": ".py",
   "mimetype": "text/x-python",
   "name": "python",
   "nbconvert_exporter": "python",
   "pygments_lexer": "ipython3",
   "version": "3.9.13"
  },
  "orig_nbformat": 4,
  "vscode": {
   "interpreter": {
    "hash": "2a810e4750b0c9cdc6313c9f472dc15d940e7ac7b2927487404d3ac7518988b5"
   }
  }
 },
 "nbformat": 4,
 "nbformat_minor": 2
}
